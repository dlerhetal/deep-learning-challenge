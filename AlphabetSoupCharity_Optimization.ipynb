{
  "cells": [
    {
      "cell_type": "markdown",
      "metadata": {
        "id": "WgLs7qa4MAD6"
      },
      "source": [
        "## Preprocessing"
      ]
    },
    {
      "cell_type": "code",
      "execution_count": 1,
      "metadata": {
        "id": "BImPI2YOMAEF"
      },
      "outputs": [],
      "source": [
        "# import just the first dependency we need to start the timer\n",
        "import time\n",
        "\n",
        "# Start the timer\n",
        "start_the_timer = time.time()\n",
        "\n",
        "# Import our dependencies\n",
        "from sklearn.neural_network import MLPClassifier\n",
        "from sklearn.datasets import load_iris\n",
        "from sklearn.model_selection import train_test_split\n",
        "from sklearn.preprocessing import StandardScaler\n",
        "from google.colab import files\n",
        "import pandas as pd\n",
        "import tensorflow as tf\n",
        "import keras\n",
        "import warnings\n",
        "\n",
        "#  Import and read the charity_data.csv.\n",
        "import pandas as pd\n",
        "df = pd.read_csv(\"https://static.bc-edx.com/data/dl-1-2/m21/lms/starter/charity_data.csv\")"
      ]
    },
    {
      "cell_type": "markdown",
      "metadata": {
        "id": "uEBctzFyMAEc"
      },
      "source": [
        "## Compile, Train and Evaluate the Model"
      ]
    },
    {
      "cell_type": "code",
      "source": [
        "# set our variables\n",
        "iterations = 0\n",
        "first_hidden_layer = 3\n",
        "second_hidden_layer = 2\n",
        "third_hidden_layer = 0\n",
        "activation_1 = 'tanh'\n",
        "activation_2 = 'relu'\n",
        "activation_3 = 'sigmoid'\n",
        "epochs_count = 2"
      ],
      "metadata": {
        "id": "5I_NDi9TE84x"
      },
      "execution_count": 2,
      "outputs": []
    },
    {
      "cell_type": "code",
      "source": [
        "# Drop the non-beneficial ID columns, 'EIN', 'NAME', 'STATUS', 'SPECIAL_CONSIDERATIONS'\n",
        "optimized_df = df[['NAME',\n",
        "                   'APPLICATION_TYPE',\n",
        "                   'AFFILIATION',\n",
        "                   'CLASSIFICATION',\n",
        "                   'USE_CASE',\n",
        "                   'ORGANIZATION',\n",
        "                   'INCOME_AMT',\n",
        "                   'ASK_AMT',\n",
        "                   'IS_SUCCESSFUL']]"
      ],
      "metadata": {
        "id": "1KynaE_LN9Zr"
      },
      "execution_count": 3,
      "outputs": []
    },
    {
      "cell_type": "code",
      "source": [
        "# Start measuring time\n",
        "start_time = time.time()\n",
        "\n",
        "# Disable the SettingWithCopyWarning\n",
        "pd.options.mode.chained_assignment = None  # default='warn'\n",
        "\n",
        "# Define column names and cutoff values in a dictionary\n",
        "column_info = {\"NAME\": {\"cutoff\": 2},\n",
        "               \"APPLICATION_TYPE\": {\"cutoff\": 528},\n",
        "               \"CLASSIFICATION\": {\"cutoff\": 1883},\n",
        "               \"INCOME_AMT\": {\"cutoff\": 24388},\n",
        "               \"ASK_AMT\": {\"cutoff\": 25398}}\n",
        "\n",
        "replacement_value = \"Other\"\n",
        "\n",
        "def replace_low_counts(optimized_df, column_info, replacement_value):\n",
        "    for col, info in column_info.items():\n",
        "        value_counts = optimized_df[col].value_counts()\n",
        "        values_to_replace = list(value_counts[value_counts < info[\"cutoff\"]].index)\n",
        "        optimized_df[col] = optimized_df[col].replace(values_to_replace, replacement_value)\n",
        "\n",
        "# Call your function\n",
        "replace_low_counts(optimized_df, column_info, replacement_value)\n",
        "\n",
        "# Stop measuring time\n",
        "end_time = time.time()\n",
        "\n",
        "# Calculate the elapsed time\n",
        "elapsed_time = end_time - start_time\n",
        "\n",
        "# Convert elapsed time to hours, minutes, and seconds\n",
        "hours, remainder = divmod(elapsed_time, 3600)\n",
        "minutes, seconds = divmod(remainder, 60)\n",
        "\n",
        "# Record the Training time\n",
        "print(f\"Optimization Run Time: {int(hours)}h {int(minutes)}m {int(seconds)}s\")"
      ],
      "metadata": {
        "id": "XOXBzsXfwkIk",
        "colab": {
          "base_uri": "https://localhost:8080/"
        },
        "outputId": "8ea47698-37e8-4760-f9b2-d64d164e8cd3"
      },
      "execution_count": 4,
      "outputs": [
        {
          "output_type": "stream",
          "name": "stdout",
          "text": [
            "Optimization Run Time: 0h 0m 35s\n"
          ]
        }
      ]
    },
    {
      "cell_type": "code",
      "source": [
        "optimized_df = pd.get_dummies(optimized_df)"
      ],
      "metadata": {
        "id": "FNas-VKH_cCh"
      },
      "execution_count": 5,
      "outputs": []
    },
    {
      "cell_type": "code",
      "source": [
        "# Split our preprocessed data into our features and target arrays\n",
        "X = optimized_df.drop('IS_SUCCESSFUL', axis = 1)\n",
        "y = optimized_df['IS_SUCCESSFUL']"
      ],
      "metadata": {
        "id": "LF-TWi-G_cFY"
      },
      "execution_count": 6,
      "outputs": []
    },
    {
      "cell_type": "code",
      "source": [
        "# Split the preprocessed data into a training and testing dataset\n",
        "X_train, X_test, y_train, y_test = train_test_split(X, y, random_state=42)"
      ],
      "metadata": {
        "id": "ooH1QS8mDu4v"
      },
      "execution_count": 7,
      "outputs": []
    },
    {
      "cell_type": "code",
      "source": [
        "# Create a StandardScaler instances\n",
        "scaler = StandardScaler()"
      ],
      "metadata": {
        "id": "DfnzXHVVDvEt"
      },
      "execution_count": 8,
      "outputs": []
    },
    {
      "cell_type": "code",
      "source": [
        "# Fit the StandardScaler\n",
        "X_scaler = scaler.fit(X_train)"
      ],
      "metadata": {
        "id": "2d9kSs5ADvNJ"
      },
      "execution_count": 9,
      "outputs": []
    },
    {
      "cell_type": "code",
      "source": [
        "# Scale the data\n",
        "X_train_scaled = X_scaler.transform(X_train)\n",
        "X_test_scaled = X_scaler.transform(X_test)"
      ],
      "metadata": {
        "id": "2J9qN62wDvUV"
      },
      "execution_count": 10,
      "outputs": []
    },
    {
      "cell_type": "code",
      "source": [
        "# Define the model - deep neural net, i.e., the number of input features and hidden nodes for each layer.\n",
        "input_features = len(X_train_scaled[0])\n",
        "nn = tf.keras.models.Sequential()\n",
        "\n",
        "# First hidden layer\n",
        "nn.add(tf.keras.layers.Dense(units=first_hidden_layer, input_dim=input_features, activation=activation_1))\n",
        "\n",
        "# Second hidden layer\n",
        "nn.add(tf.keras.layers.Dense(units=second_hidden_layer, activation=activation_2))\n",
        "\n",
        "# Output layer\n",
        "nn.add(tf.keras.layers.Dense(units=1, activation=activation_3))"
      ],
      "metadata": {
        "id": "p2hHVrQX0QIB"
      },
      "execution_count": 11,
      "outputs": []
    },
    {
      "cell_type": "code",
      "source": [
        "# Check the structure of the model\n",
        "nn.summary()"
      ],
      "metadata": {
        "colab": {
          "base_uri": "https://localhost:8080/"
        },
        "id": "U0kcN96bLbSp",
        "outputId": "60775f91-42c5-4e50-f328-46e0cadec1e6"
      },
      "execution_count": 12,
      "outputs": [
        {
          "output_type": "stream",
          "name": "stdout",
          "text": [
            "Model: \"sequential\"\n",
            "_________________________________________________________________\n",
            " Layer (type)                Output Shape              Param #   \n",
            "=================================================================\n",
            " dense (Dense)               (None, 3)                 2484      \n",
            "                                                                 \n",
            " dense_1 (Dense)             (None, 2)                 8         \n",
            "                                                                 \n",
            " dense_2 (Dense)             (None, 1)                 3         \n",
            "                                                                 \n",
            "=================================================================\n",
            "Total params: 2495 (9.75 KB)\n",
            "Trainable params: 2495 (9.75 KB)\n",
            "Non-trainable params: 0 (0.00 Byte)\n",
            "_________________________________________________________________\n"
          ]
        }
      ]
    },
    {
      "cell_type": "code",
      "source": [
        "# Compile the model\n",
        "nn.compile(loss=\"binary_crossentropy\", optimizer=\"adam\", metrics=[\"accuracy\"])"
      ],
      "metadata": {
        "id": "p8y_ry11LVO0"
      },
      "execution_count": 13,
      "outputs": []
    },
    {
      "cell_type": "code",
      "source": [
        "# Disable the SettingWithCopyWarning\n",
        "pd.options.mode.chained_assignment = None\n",
        "\n",
        "# Define the filename\n",
        "# iterations = 3\n",
        "filename = f\"AlphabetSoupCharity_Optimization_{iterations}.h5\"\n",
        "\n",
        "# Start measuring time\n",
        "start_time = time.time()\n",
        "\n",
        "# Train the neural network model\n",
        "with warnings.catch_warnings():\n",
        "    warnings.simplefilter(\"ignore\")\n",
        "    nn.fit(X_train_scaled, y_train, epochs=epochs_count, verbose=0)\n",
        "\n",
        "# Stop measuring time\n",
        "end_time = time.time()\n",
        "\n",
        "# Calculate the elapsed time\n",
        "elapsed_time = end_time - start_time\n",
        "\n",
        "# Convert elapsed time to hours, minutes, and seconds\n",
        "hours, remainder = divmod(elapsed_time, 3600)\n",
        "minutes, seconds = divmod(remainder, 60)\n",
        "\n",
        "# Record the Training time\n",
        "print(f\"Training Run Time: {int(hours)}h {int(minutes)}m {int(seconds)}s\")"
      ],
      "metadata": {
        "colab": {
          "base_uri": "https://localhost:8080/"
        },
        "id": "y2V2rkaDKj00",
        "outputId": "abd761ba-7020-4497-ff8c-9fda0905eb47"
      },
      "execution_count": 14,
      "outputs": [
        {
          "output_type": "stream",
          "name": "stdout",
          "text": [
            "Training Run Time: 0h 0m 3s\n"
          ]
        }
      ]
    },
    {
      "cell_type": "code",
      "source": [
        "# Evaluate the model using the test data\n",
        "model_loss, model_accuracy = nn.evaluate(X_test_scaled,y_test,verbose=0)\n",
        "print(f\"Model Loss: {model_loss}/nModel Accuracy: {model_accuracy}\")"
      ],
      "metadata": {
        "id": "1Uh1GE690QXc",
        "colab": {
          "base_uri": "https://localhost:8080/"
        },
        "outputId": "8cfd20b6-7b62-4bdb-d4bb-5a822a4b0321"
      },
      "execution_count": 15,
      "outputs": [
        {
          "output_type": "stream",
          "name": "stdout",
          "text": [
            "Model Loss: 0.5004074573516846/nModel Accuracy: 0.7847230434417725\n"
          ]
        }
      ]
    },
    {
      "cell_type": "code",
      "source": [
        "# Disable the SettingWithCopyWarning\n",
        "pd.options.mode.chained_assignment = None\n",
        "\n",
        "# Define the filename\n",
        "filename = f\"AlphabetSoupCharity_Optimization_{iterations}.h5\"\n",
        "\n",
        "# Save the neural network model with the constructed filename\n",
        "with warnings.catch_warnings():\n",
        "    warnings.simplefilter(\"ignore\")\n",
        "    nn.save(filename)\n",
        "\n",
        "# Download the file\n",
        "files.download(filename)\n",
        "\n",
        "# Direct the user where to find the file\n",
        "print(f\"{filename} has been exported to your Downloads folder.\")\n",
        "\n",
        "# Stop timing us\n",
        "stop_the_timer = time.time()\n",
        "\n",
        "# Calculate entire run time\n",
        "entire_run_time = stop_the_timer - start_the_timer\n",
        "\n",
        "# Convert elapsed time to hours, minutes, and seconds\n",
        "hours, remainder = divmod(entire_run_time, 3600)\n",
        "minutes, seconds = divmod(remainder, 60)\n",
        "\n",
        "# Record the Training time\n",
        "print(f\"Total Run Time: {int(hours)}h {int(minutes)}m {int(seconds)}s\")"
      ],
      "metadata": {
        "colab": {
          "base_uri": "https://localhost:8080/",
          "height": 52
        },
        "id": "4myZskCS1ULw",
        "outputId": "e7f4341d-2337-44ba-92b8-35edbfecc388"
      },
      "execution_count": 16,
      "outputs": [
        {
          "output_type": "display_data",
          "data": {
            "text/plain": [
              "<IPython.core.display.Javascript object>"
            ],
            "application/javascript": [
              "\n",
              "    async function download(id, filename, size) {\n",
              "      if (!google.colab.kernel.accessAllowed) {\n",
              "        return;\n",
              "      }\n",
              "      const div = document.createElement('div');\n",
              "      const label = document.createElement('label');\n",
              "      label.textContent = `Downloading \"${filename}\": `;\n",
              "      div.appendChild(label);\n",
              "      const progress = document.createElement('progress');\n",
              "      progress.max = size;\n",
              "      div.appendChild(progress);\n",
              "      document.body.appendChild(div);\n",
              "\n",
              "      const buffers = [];\n",
              "      let downloaded = 0;\n",
              "\n",
              "      const channel = await google.colab.kernel.comms.open(id);\n",
              "      // Send a message to notify the kernel that we're ready.\n",
              "      channel.send({})\n",
              "\n",
              "      for await (const message of channel.messages) {\n",
              "        // Send a message to notify the kernel that we're ready.\n",
              "        channel.send({})\n",
              "        if (message.buffers) {\n",
              "          for (const buffer of message.buffers) {\n",
              "            buffers.push(buffer);\n",
              "            downloaded += buffer.byteLength;\n",
              "            progress.value = downloaded;\n",
              "          }\n",
              "        }\n",
              "      }\n",
              "      const blob = new Blob(buffers, {type: 'application/binary'});\n",
              "      const a = document.createElement('a');\n",
              "      a.href = window.URL.createObjectURL(blob);\n",
              "      a.download = filename;\n",
              "      div.appendChild(a);\n",
              "      a.click();\n",
              "      div.remove();\n",
              "    }\n",
              "  "
            ]
          },
          "metadata": {}
        },
        {
          "output_type": "display_data",
          "data": {
            "text/plain": [
              "<IPython.core.display.Javascript object>"
            ],
            "application/javascript": [
              "download(\"download_80613c10-9975-45e3-9420-d81294cd9e00\", \"AlphabetSoupCharity_Optimization_0.h5\", 61996)"
            ]
          },
          "metadata": {}
        },
        {
          "output_type": "stream",
          "name": "stdout",
          "text": [
            "AlphabetSoupCharity_Optimization_0.h5 has been exported to your Downloads folder.\n",
            "Total Run Time: 0h 0m 49s\n"
          ]
        }
      ]
    }
  ],
  "metadata": {
    "kernelspec": {
      "display_name": "Python 3",
      "language": "python",
      "name": "python3"
    },
    "language_info": {
      "codemirror_mode": {
        "name": "ipython",
        "version": 3
      },
      "file_extension": ".py",
      "mimetype": "text/x-python",
      "name": "python",
      "nbconvert_exporter": "python",
      "pygments_lexer": "ipython3",
      "version": "3.-1.-1"
    },
    "vscode": {
      "interpreter": {
        "hash": "31f2aee4e71d21fbe5cf8b01ff0e069b9275f58929596ceb00d14d90e3e16cd6"
      }
    },
    "colab": {
      "provenance": []
    }
  },
  "nbformat": 4,
  "nbformat_minor": 0
}